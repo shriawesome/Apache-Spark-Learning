{
 "cells": [
  {
   "cell_type": "markdown",
   "metadata": {},
   "source": [
    "# Data Wrangling with Spark"
   ]
  },
  {
   "cell_type": "code",
   "execution_count": 2,
   "metadata": {},
   "outputs": [],
   "source": [
    "from pyspark.sql import SparkSession\n",
    "from pyspark.sql.functions import udf,desc,asc\n",
    "from pyspark.sql.types import StringType,IntegerType\n",
    "from pyspark.sql.functions import sum as Fsum\n",
    "\n",
    "import datetime\n",
    "\n",
    "import numpy as np\n",
    "import pandas as pd\n",
    "\n",
    "import matplotlib.pyplot as plt\n",
    "%matplotlib inline"
   ]
  },
  {
   "cell_type": "code",
   "execution_count": 3,
   "metadata": {},
   "outputs": [],
   "source": [
    "# Instantiating a SparkSession\n",
    "spark=SparkSession.builder.appName('Wrangling Data').getOrCreate()"
   ]
  },
  {
   "cell_type": "code",
   "execution_count": 4,
   "metadata": {},
   "outputs": [
    {
     "data": {
      "text/plain": [
       "pyspark.sql.dataframe.DataFrame"
      ]
     },
     "execution_count": 4,
     "metadata": {},
     "output_type": "execute_result"
    }
   ],
   "source": [
    "# Let's load our json file into Spark DataFrame\n",
    "user_log=spark.read.json('../data/sparkify_log_small.json')\n",
    "type(user_log)"
   ]
  },
  {
   "cell_type": "markdown",
   "metadata": {},
   "source": [
    "## Data Exploration"
   ]
  },
  {
   "cell_type": "code",
   "execution_count": 8,
   "metadata": {},
   "outputs": [
    {
     "data": {
      "text/plain": [
       "[Row(artist='Showaddywaddy', auth='Logged In', firstName='Kenneth', gender='M', itemInSession=112, lastName='Matthews', length=232.93342, level='paid', location='Charlotte-Concord-Gastonia, NC-SC', method='PUT', page='NextSong', registration=1509380319284, sessionId=5132, song='Christmas Tears Will Fall', status=200, ts=1513720872284, userAgent='\"Mozilla/5.0 (Windows NT 6.1) AppleWebKit/537.36 (KHTML, like Gecko) Chrome/36.0.1985.125 Safari/537.36\"', userId='1046'),\n",
       " Row(artist='Lily Allen', auth='Logged In', firstName='Elizabeth', gender='F', itemInSession=7, lastName='Chase', length=195.23873, level='free', location='Shreveport-Bossier City, LA', method='PUT', page='NextSong', registration=1512718541284, sessionId=5027, song='Cheryl Tweedy', status=200, ts=1513720878284, userAgent='\"Mozilla/5.0 (Windows NT 6.1) AppleWebKit/537.36 (KHTML, like Gecko) Chrome/36.0.1985.143 Safari/537.36\"', userId='1000'),\n",
       " Row(artist='Cobra Starship Featuring Leighton Meester', auth='Logged In', firstName='Vera', gender='F', itemInSession=6, lastName='Blackwell', length=196.20526, level='paid', location='Racine, WI', method='PUT', page='NextSong', registration=1499855749284, sessionId=5516, song='Good Girls Go Bad (Feat.Leighton Meester) (Album Version)', status=200, ts=1513720881284, userAgent='\"Mozilla/5.0 (Macintosh; Intel Mac OS X 10_9_4) AppleWebKit/537.78.2 (KHTML, like Gecko) Version/7.0.6 Safari/537.78.2\"', userId='2219'),\n",
       " Row(artist='Alex Smoke', auth='Logged In', firstName='Sophee', gender='F', itemInSession=8, lastName='Barker', length=405.99465, level='paid', location='San Luis Obispo-Paso Robles-Arroyo Grande, CA', method='PUT', page='NextSong', registration=1513009647284, sessionId=2372, song=\"Don't See The Point\", status=200, ts=1513720905284, userAgent='\"Mozilla/5.0 (Windows NT 6.1; WOW64) AppleWebKit/537.36 (KHTML, like Gecko) Chrome/36.0.1985.143 Safari/537.36\"', userId='2373'),\n",
       " Row(artist=None, auth='Logged In', firstName='Jordyn', gender='F', itemInSession=0, lastName='Jones', length=None, level='free', location='Syracuse, NY', method='GET', page='Home', registration=1513648531284, sessionId=1746, song=None, status=200, ts=1513720913284, userAgent='\"Mozilla/5.0 (Macintosh; Intel Mac OS X 10_9_4) AppleWebKit/537.36 (KHTML, like Gecko) Chrome/37.0.2062.94 Safari/537.36\"', userId='1747')]"
      ]
     },
     "execution_count": 8,
     "metadata": {},
     "output_type": "execute_result"
    }
   ],
   "source": [
    "# Reading the first 5 rows of the data\n",
    "user_log.head(5)"
   ]
  },
  {
   "cell_type": "code",
   "execution_count": 11,
   "metadata": {},
   "outputs": [
    {
     "name": "stdout",
     "output_type": "stream",
     "text": [
      "root\n",
      " |-- artist: string (nullable = true)\n",
      " |-- auth: string (nullable = true)\n",
      " |-- firstName: string (nullable = true)\n",
      " |-- gender: string (nullable = true)\n",
      " |-- itemInSession: long (nullable = true)\n",
      " |-- lastName: string (nullable = true)\n",
      " |-- length: double (nullable = true)\n",
      " |-- level: string (nullable = true)\n",
      " |-- location: string (nullable = true)\n",
      " |-- method: string (nullable = true)\n",
      " |-- page: string (nullable = true)\n",
      " |-- registration: long (nullable = true)\n",
      " |-- sessionId: long (nullable = true)\n",
      " |-- song: string (nullable = true)\n",
      " |-- status: long (nullable = true)\n",
      " |-- ts: long (nullable = true)\n",
      " |-- userAgent: string (nullable = true)\n",
      " |-- userId: string (nullable = true)\n",
      "\n"
     ]
    }
   ],
   "source": [
    "# Understanding the structure of the data, with the column name and the datatype\n",
    "user_log.printSchema()"
   ]
  },
  {
   "cell_type": "code",
   "execution_count": 13,
   "metadata": {},
   "outputs": [
    {
     "name": "stdout",
     "output_type": "stream",
     "text": [
      "+-------+-----------------+----------+---------+------+------------------+--------+-----------------+-----+------------+------+-------+--------------------+------------------+--------+-----------------+-------------------+--------------------+------------------+\n",
      "|summary|           artist|      auth|firstName|gender|     itemInSession|lastName|           length|level|    location|method|   page|        registration|         sessionId|    song|           status|                 ts|           userAgent|            userId|\n",
      "+-------+-----------------+----------+---------+------+------------------+--------+-----------------+-----+------------+------+-------+--------------------+------------------+--------+-----------------+-------------------+--------------------+------------------+\n",
      "|  count|             8347|     10000|     9664|  9664|             10000|    9664|             8347|10000|        9664| 10000|  10000|                9664|             10000|    8347|            10000|              10000|                9664|             10000|\n",
      "|   mean|            461.0|      null|     null|  null|           19.6734|    null|249.6486587492506| null|        null|  null|   null|1.504695369588739...|         4436.7511|Infinity|         202.8984| 1.5137859954164E12|                null|1442.4413286423842|\n",
      "| stddev|            300.0|      null|     null|  null|25.382114916132608|    null|95.00437130781461| null|        null|  null|   null|  8.47314252131656E9|2043.1281541827561|     NaN|18.04179115450588|3.290828862357974E7|                null| 829.8909432082621|\n",
      "|    min|              !!!|     Guest|   Aakash|     F|                 0| Acevedo|          1.12281| free|Aberdeen, WA|   GET|  About|       1463503881284|                 9|      #1|              200|      1513720872284|\"Mozilla/5.0 (Mac...|                  |\n",
      "|    max|ÃÂlafur Arnalds|Logged Out|     Zoie|     M|               163|  Zuniga|        1806.8371| paid|    Yuma, AZ|   PUT|Upgrade|       1513760702284|              7144|wingless|              404|      1513848349284|Mozilla/5.0 (comp...|               999|\n",
      "+-------+-----------------+----------+---------+------+------------------+--------+-----------------+-----+------------+------+-------+--------------------+------------------+--------+-----------------+-------------------+--------------------+------------------+\n",
      "\n"
     ]
    }
   ],
   "source": [
    "# if describe() is used without show(), it behaves exactly the same as printSchema()\n",
    "# show() tells us the summary, mean etc of different column values.\n",
    "user_log.describe().show()"
   ]
  },
  {
   "cell_type": "code",
   "execution_count": 14,
   "metadata": {},
   "outputs": [
    {
     "name": "stdout",
     "output_type": "stream",
     "text": [
      "+-------+-----------------+\n",
      "|summary|           artist|\n",
      "+-------+-----------------+\n",
      "|  count|             8347|\n",
      "|   mean|            461.0|\n",
      "| stddev|            300.0|\n",
      "|    min|              !!!|\n",
      "|    max|ÃÂlafur Arnalds|\n",
      "+-------+-----------------+\n",
      "\n"
     ]
    }
   ],
   "source": [
    "# Since, it's difficult to understand this format we can use a particular column \n",
    "# which we want to explore, say we want to explore the column 'artist'\n",
    "# select() is used to select columns from the SDF\n",
    "user_log.select('artist').describe().show()"
   ]
  },
  {
   "cell_type": "code",
   "execution_count": 15,
   "metadata": {},
   "outputs": [
    {
     "name": "stdout",
     "output_type": "stream",
     "text": [
      "+-------+-----------------+------------------+\n",
      "|summary|           artist|         sessionId|\n",
      "+-------+-----------------+------------------+\n",
      "|  count|             8347|             10000|\n",
      "|   mean|            461.0|         4436.7511|\n",
      "| stddev|            300.0|2043.1281541827561|\n",
      "|    min|              !!!|                 9|\n",
      "|    max|ÃÂlafur Arnalds|              7144|\n",
      "+-------+-----------------+------------------+\n",
      "\n"
     ]
    }
   ],
   "source": [
    "# If we use it out numeric column we can get more insight about the data in the Column\n",
    "user_log.select(['artist','sessionId']).describe().show()"
   ]
  },
  {
   "cell_type": "code",
   "execution_count": 17,
   "metadata": {},
   "outputs": [
    {
     "data": {
      "text/plain": [
       "10000"
      ]
     },
     "execution_count": 17,
     "metadata": {},
     "output_type": "execute_result"
    }
   ],
   "source": [
    "# To get the count of the number of rows\n",
    "user_log.count()"
   ]
  },
  {
   "cell_type": "markdown",
   "metadata": {},
   "source": [
    "We can see for each `sessionID` we have an entry but same is not for the `artist`, and it makes sense as there won't be any value for the artist column if user doesn't play any song during a session."
   ]
  },
  {
   "cell_type": "code",
   "execution_count": 22,
   "metadata": {},
   "outputs": [
    {
     "name": "stdout",
     "output_type": "stream",
     "text": [
      "+----------------+\n",
      "|            page|\n",
      "+----------------+\n",
      "|           About|\n",
      "|       Downgrade|\n",
      "|           Error|\n",
      "|            Help|\n",
      "|            Home|\n",
      "|           Login|\n",
      "|          Logout|\n",
      "|        NextSong|\n",
      "|   Save Settings|\n",
      "|        Settings|\n",
      "|Submit Downgrade|\n",
      "|  Submit Upgrade|\n",
      "|         Upgrade|\n",
      "+----------------+\n",
      "\n"
     ]
    }
   ],
   "source": [
    "# Let's see what sort of page requests we have for 'page'\n",
    "# dropDuplicates to get unique values and sort is used for sorting.\n",
    "user_log.select('page').dropDuplicates().sort('page',ascending=True).show()"
   ]
  },
  {
   "cell_type": "markdown",
   "metadata": {},
   "source": [
    "Hence, these are the different page requests users can make. Let's explote those users who chose to downgrade the plan by exploring the `Submit Downgrade` option"
   ]
  },
  {
   "cell_type": "code",
   "execution_count": 23,
   "metadata": {},
   "outputs": [
    {
     "data": {
      "text/plain": [
       "['artist',\n",
       " 'auth',\n",
       " 'firstName',\n",
       " 'gender',\n",
       " 'itemInSession',\n",
       " 'lastName',\n",
       " 'length',\n",
       " 'level',\n",
       " 'location',\n",
       " 'method',\n",
       " 'page',\n",
       " 'registration',\n",
       " 'sessionId',\n",
       " 'song',\n",
       " 'status',\n",
       " 'ts',\n",
       " 'userAgent',\n",
       " 'userId']"
      ]
     },
     "execution_count": 23,
     "metadata": {},
     "output_type": "execute_result"
    }
   ],
   "source": [
    "user_log.columns"
   ]
  },
  {
   "cell_type": "code",
   "execution_count": 31,
   "metadata": {},
   "outputs": [
    {
     "data": {
      "text/plain": [
       "[Row(userId='1046', firstName='Kenneth', page='NextSong', song='Christmas Tears Will Fall'),\n",
       " Row(userId='1046', firstName='Kenneth', page='NextSong', song='Be Wary Of A Woman'),\n",
       " Row(userId='1046', firstName='Kenneth', page='NextSong', song='Public Enemy No.1'),\n",
       " Row(userId='1046', firstName='Kenneth', page='NextSong', song='Reign Of The Tyrants'),\n",
       " Row(userId='1046', firstName='Kenneth', page='NextSong', song='Father And Son'),\n",
       " Row(userId='1046', firstName='Kenneth', page='NextSong', song='No. 5'),\n",
       " Row(userId='1046', firstName='Kenneth', page='NextSong', song='Seventeen'),\n",
       " Row(userId='1046', firstName='Kenneth', page='Home', song=None),\n",
       " Row(userId='1046', firstName='Kenneth', page='NextSong', song='War on war'),\n",
       " Row(userId='1046', firstName='Kenneth', page='NextSong', song='Killermont Street'),\n",
       " Row(userId='1046', firstName='Kenneth', page='NextSong', song='Black & Blue'),\n",
       " Row(userId='1046', firstName='Kenneth', page='Logout', song=None),\n",
       " Row(userId='1046', firstName='Kenneth', page='Home', song=None),\n",
       " Row(userId='1046', firstName='Kenneth', page='NextSong', song='Heads Will Roll'),\n",
       " Row(userId='1046', firstName='Kenneth', page='NextSong', song='Bleed It Out [Live At Milton Keynes]'),\n",
       " Row(userId='1046', firstName='Kenneth', page='NextSong', song='Clocks'),\n",
       " Row(userId='1046', firstName='Kenneth', page='NextSong', song='Love Rain'),\n",
       " Row(userId='1046', firstName='Kenneth', page='NextSong', song=\"Ry Ry's Song (Album Version)\"),\n",
       " Row(userId='1046', firstName='Kenneth', page='NextSong', song='The Invisible Man'),\n",
       " Row(userId='1046', firstName='Kenneth', page='NextSong', song='Catch You Baby (Steve Pitron & Max Sanna Radio Edit)'),\n",
       " Row(userId='1046', firstName='Kenneth', page='NextSong', song='Ask The Mountains'),\n",
       " Row(userId='1046', firstName='Kenneth', page='NextSong', song='Given Up (Album Version)'),\n",
       " Row(userId='1046', firstName='Kenneth', page='NextSong', song='El Cuatrero'),\n",
       " Row(userId='1046', firstName='Kenneth', page='NextSong', song='Hero/Heroine'),\n",
       " Row(userId='1046', firstName='Kenneth', page='NextSong', song='Spring'),\n",
       " Row(userId='1046', firstName='Kenneth', page='NextSong', song='Rising Moon'),\n",
       " Row(userId='1046', firstName='Kenneth', page='NextSong', song='Tough Little Boys'),\n",
       " Row(userId='1046', firstName='Kenneth', page='NextSong', song=\"Qu'Est-Ce Que T'Es Belle\"),\n",
       " Row(userId='1046', firstName='Kenneth', page='NextSong', song='Secrets'),\n",
       " Row(userId='1046', firstName='Kenneth', page='NextSong', song='Under The Gun')]"
      ]
     },
     "execution_count": 31,
     "metadata": {},
     "output_type": "execute_result"
    }
   ],
   "source": [
    "# Let's explore a particular user and it's activities\n",
    "# can use show() as well but it doesn't return all the values and just the top 20\n",
    "# collect() on the other hand return all the values along with new DataFrame\n",
    "user_log.select(['userId','firstName','page','song']).where(user_log.userId=='1046').collect()"
   ]
  },
  {
   "cell_type": "markdown",
   "metadata": {},
   "source": [
    "## Calculating Statistics by Hour"
   ]
  },
  {
   "cell_type": "code",
   "execution_count": 36,
   "metadata": {},
   "outputs": [
    {
     "data": {
      "text/plain": [
       "[Row(ts=1513720872284),\n",
       " Row(ts=1513720878284),\n",
       " Row(ts=1513720881284),\n",
       " Row(ts=1513720905284),\n",
       " Row(ts=1513720913284)]"
      ]
     },
     "execution_count": 36,
     "metadata": {},
     "output_type": "execute_result"
    }
   ],
   "source": [
    "# Let's explore how many songs users are listening in a particular hour\n",
    "# for this we need to convert timestamp to datetime from epoch time, \n",
    "# let's see the initial time format from 'ts'\n",
    "user_log.select('ts').head(5)"
   ]
  },
  {
   "cell_type": "code",
   "execution_count": 44,
   "metadata": {},
   "outputs": [],
   "source": [
    "# defining a user defined f'n with the name gethour using lamda\n",
    "get_hour=udf(lambda x:datetime.datetime.fromtimestamp(x / 1000.0).hour)"
   ]
  },
  {
   "cell_type": "code",
   "execution_count": 55,
   "metadata": {},
   "outputs": [],
   "source": [
    "# let's add a new column with name hour and perform computation using\n",
    "# the above gethour f'n\n",
    "user_log=user_log.withColumn('hour',get_hour(user_log.ts))"
   ]
  },
  {
   "cell_type": "code",
   "execution_count": 56,
   "metadata": {},
   "outputs": [
    {
     "data": {
      "text/plain": [
       "[Row(artist='Showaddywaddy', auth='Logged In', firstName='Kenneth', gender='M', itemInSession=112, lastName='Matthews', length=232.93342, level='paid', location='Charlotte-Concord-Gastonia, NC-SC', method='PUT', page='NextSong', registration=1509380319284, sessionId=5132, song='Christmas Tears Will Fall', status=200, ts=1513720872284, userAgent='\"Mozilla/5.0 (Windows NT 6.1) AppleWebKit/537.36 (KHTML, like Gecko) Chrome/36.0.1985.125 Safari/537.36\"', userId='1046', hour='3'),\n",
       " Row(artist='Lily Allen', auth='Logged In', firstName='Elizabeth', gender='F', itemInSession=7, lastName='Chase', length=195.23873, level='free', location='Shreveport-Bossier City, LA', method='PUT', page='NextSong', registration=1512718541284, sessionId=5027, song='Cheryl Tweedy', status=200, ts=1513720878284, userAgent='\"Mozilla/5.0 (Windows NT 6.1) AppleWebKit/537.36 (KHTML, like Gecko) Chrome/36.0.1985.143 Safari/537.36\"', userId='1000', hour='3')]"
      ]
     },
     "execution_count": 56,
     "metadata": {},
     "output_type": "execute_result"
    }
   ],
   "source": [
    "user_log.head(2)"
   ]
  },
  {
   "cell_type": "markdown",
   "metadata": {},
   "source": [
    "Hence, we can see that user played a particular song at 3:00 AM"
   ]
  },
  {
   "cell_type": "code",
   "execution_count": 68,
   "metadata": {},
   "outputs": [],
   "source": [
    "# The next step is to count the next song page request, group by the hour we just computed\n",
    "# and also let's order by hour to get in a correct format.\n",
    "# inplace of sort() we can also use 'orderBy()''\n",
    "songs_in_hour=user_log.filter(user_log.page=='NextSong').groupby('hour').count().sort(user_log.hour.cast('float'))"
   ]
  },
  {
   "cell_type": "code",
   "execution_count": 69,
   "metadata": {},
   "outputs": [
    {
     "name": "stdout",
     "output_type": "stream",
     "text": [
      "+----+-----+\n",
      "|hour|count|\n",
      "+----+-----+\n",
      "|   0|  337|\n",
      "|   1|  255|\n",
      "|   2|  271|\n",
      "|   3|  307|\n",
      "|   4|  377|\n",
      "|   5|  371|\n",
      "|   6|  505|\n",
      "|   7|  410|\n",
      "|   8|  320|\n",
      "|   9|  341|\n",
      "|  10|  319|\n",
      "|  11|  306|\n",
      "|  12|  344|\n",
      "|  13|  395|\n",
      "|  14|  324|\n",
      "|  15|  185|\n",
      "|  16|  236|\n",
      "|  17|  238|\n",
      "|  18|  285|\n",
      "|  19|  418|\n",
      "+----+-----+\n",
      "only showing top 20 rows\n",
      "\n"
     ]
    }
   ],
   "source": [
    "songs_in_hour.show()"
   ]
  },
  {
   "cell_type": "code",
   "execution_count": 70,
   "metadata": {},
   "outputs": [],
   "source": [
    "# Let's convert the above data into dataframe and plot the graph\n",
    "songs_in_hr_pd=songs_in_hour.toPandas()"
   ]
  },
  {
   "cell_type": "code",
   "execution_count": 77,
   "metadata": {},
   "outputs": [],
   "source": [
    "# hour is in object format let's convert it in float format\n",
    "songs_in_hr_pd.hour=songs_in_hr_pd.hour.astype('int64')"
   ]
  },
  {
   "cell_type": "code",
   "execution_count": 81,
   "metadata": {},
   "outputs": [
    {
     "data": {
      "image/png": "[encoded data removed]",
      "text/plain": [
       "<Figure size 432x288 with 1 Axes>"
      ]
     },
     "metadata": {
      "needs_background": "light"
     },
     "output_type": "display_data"
    }
   ],
   "source": [
    "plt.scatter(songs_in_hr_pd['hour'],songs_in_hr_pd['count'])\n",
    "plt.xlim(-1,24)\n",
    "plt.ylim(0,1.2*max(songs_in_hr_pd['count']))\n",
    "plt.xlabel('hours')\n",
    "plt.ylabel('count')\n",
    "plt.show()"
   ]
  },
  {
   "cell_type": "markdown",
   "metadata": {},
   "source": [
    "## Remove Rows with Missing values"
   ]
  },
  {
   "cell_type": "code",
   "execution_count": 82,
   "metadata": {},
   "outputs": [],
   "source": [
    "# We need to be sure that we have all the values for userId and the sessionID\n",
    "user_log_valid=user_log.dropna(how='any',subset=['userId','sessionId'])"
   ]
  },
  {
   "cell_type": "code",
   "execution_count": 84,
   "metadata": {},
   "outputs": [
    {
     "data": {
      "text/plain": [
       "(10000, 10000)"
      ]
     },
     "execution_count": 84,
     "metadata": {},
     "output_type": "execute_result"
    }
   ],
   "source": [
    "# Hence we can see that we have not lost any data as such\n",
    "user_log.count(),user_log_valid.count()"
   ]
  },
  {
   "cell_type": "code",
   "execution_count": 86,
   "metadata": {},
   "outputs": [
    {
     "name": "stdout",
     "output_type": "stream",
     "text": [
      "+------+\n",
      "|userId|\n",
      "+------+\n",
      "|      |\n",
      "|    10|\n",
      "|   100|\n",
      "|  1000|\n",
      "|  1003|\n",
      "|  1005|\n",
      "|  1006|\n",
      "|  1017|\n",
      "|  1019|\n",
      "|  1020|\n",
      "|  1022|\n",
      "|  1025|\n",
      "|  1030|\n",
      "|  1035|\n",
      "|  1037|\n",
      "|   104|\n",
      "|  1040|\n",
      "|  1042|\n",
      "|  1043|\n",
      "|  1046|\n",
      "+------+\n",
      "only showing top 20 rows\n",
      "\n"
     ]
    }
   ],
   "source": [
    "# let's have a look at userId unique values\n",
    "user_log.select('userId').dropDuplicates().sort('userId').show()"
   ]
  },
  {
   "cell_type": "code",
   "execution_count": 88,
   "metadata": {},
   "outputs": [
    {
     "data": {
      "text/plain": [
       "9664"
      ]
     },
     "execution_count": 88,
     "metadata": {},
     "output_type": "execute_result"
    }
   ],
   "source": [
    "# We see that the first entry is an empty string and we need to remove this record\n",
    "# we can also use .filter() in place of where(), both perform the same task\n",
    "user_log_valid=user_log_valid.where(user_log.userId!=\"\")\n",
    "user_log_valid.count()"
   ]
  },
  {
   "cell_type": "markdown",
   "metadata": {},
   "source": [
    "Hence, we see that we have lost few information"
   ]
  },
  {
   "cell_type": "markdown",
   "metadata": {},
   "source": [
    "## Users Downgraded Their Accounts\n",
    "\n",
    "Find when users downgrade their accounts and then flag those log entries. Then use a window function and cumulative sum to distinguish each user's data as either pre or post downgrade events."
   ]
  },
  {
   "cell_type": "code",
   "execution_count": 90,
   "metadata": {},
   "outputs": [
    {
     "name": "stdout",
     "output_type": "stream",
     "text": [
      "+------+---------+---------+------+-------------+--------+------+-----+--------------------+------+----------------+-------------+---------+----+------+-------------+--------------------+------+----+\n",
      "|artist|     auth|firstName|gender|itemInSession|lastName|length|level|            location|method|            page| registration|sessionId|song|status|           ts|           userAgent|userId|hour|\n",
      "+------+---------+---------+------+-------------+--------+------+-----+--------------------+------+----------------+-------------+---------+----+------+-------------+--------------------+------+----+\n",
      "|  null|Logged In|    Kelly|     F|           24|  Newton|  null| paid|Houston-The Woodl...|   PUT|Submit Downgrade|1513283366284|     5931|null|   307|1513768454284|Mozilla/5.0 (Wind...|  1138|  16|\n",
      "+------+---------+---------+------+-------------+--------+------+-----+--------------------+------+----------------+-------------+---------+----+------+-------------+--------------------+------+----+\n",
      "\n"
     ]
    }
   ],
   "source": [
    "user_log_valid.filter(\"page = 'Submit Downgrade'\").show(2)"
   ]
  },
  {
   "cell_type": "code",
   "execution_count": 92,
   "metadata": {},
   "outputs": [
    {
     "data": {
      "text/plain": [
       "[Row(userId='1138', firstName='Kelly', page='Home', level='paid', song=None),\n",
       " Row(userId='1138', firstName='Kelly', page='NextSong', level='paid', song='Everybody Everybody'),\n",
       " Row(userId='1138', firstName='Kelly', page='NextSong', level='paid', song='Gears'),\n",
       " Row(userId='1138', firstName='Kelly', page='NextSong', level='paid', song='Use Somebody'),\n",
       " Row(userId='1138', firstName='Kelly', page='NextSong', level='paid', song='Love Of My Life (1993 Digital Remaster)'),\n",
       " Row(userId='1138', firstName='Kelly', page='NextSong', level='paid', song='Down In The Valley Woe'),\n",
       " Row(userId='1138', firstName='Kelly', page='NextSong', level='paid', song='Treat Her Like A Lady'),\n",
       " Row(userId='1138', firstName='Kelly', page='NextSong', level='paid', song=\"Everybody Thinks You're An Angel\"),\n",
       " Row(userId='1138', firstName='Kelly', page='NextSong', level='paid', song='Fourteen Wives'),\n",
       " Row(userId='1138', firstName='Kelly', page='NextSong', level='paid', song='Love On The Rocks'),\n",
       " Row(userId='1138', firstName='Kelly', page='NextSong', level='paid', song='Breakeven'),\n",
       " Row(userId='1138', firstName='Kelly', page='NextSong', level='paid', song='Leaf House'),\n",
       " Row(userId='1138', firstName='Kelly', page='NextSong', level='paid', song='NAISEN KANSSA'),\n",
       " Row(userId='1138', firstName='Kelly', page='NextSong', level='paid', song=\"You're In My Heart\"),\n",
       " Row(userId='1138', firstName='Kelly', page='NextSong', level='paid', song='Roll On Down The Highway'),\n",
       " Row(userId='1138', firstName='Kelly', page='NextSong', level='paid', song='Plasticities (Remix)'),\n",
       " Row(userId='1138', firstName='Kelly', page='NextSong', level='paid', song='Secrets'),\n",
       " Row(userId='1138', firstName='Kelly', page='NextSong', level='paid', song='Hello'),\n",
       " Row(userId='1138', firstName='Kelly', page='NextSong', level='paid', song='I Never Told You'),\n",
       " Row(userId='1138', firstName='Kelly', page='NextSong', level='paid', song='Love Break Me'),\n",
       " Row(userId='1138', firstName='Kelly', page='NextSong', level='paid', song='One Touch One Bounce'),\n",
       " Row(userId='1138', firstName='Kelly', page='NextSong', level='paid', song='Undo'),\n",
       " Row(userId='1138', firstName='Kelly', page='NextSong', level='paid', song='Overdue (Blackbeard Remix)'),\n",
       " Row(userId='1138', firstName='Kelly', page='NextSong', level='paid', song='Slave To Love (1999 Digital Remaster)'),\n",
       " Row(userId='1138', firstName='Kelly', page='NextSong', level='paid', song='Stronger'),\n",
       " Row(userId='1138', firstName='Kelly', page='NextSong', level='paid', song='All Of Us (Album Version)'),\n",
       " Row(userId='1138', firstName='Kelly', page='NextSong', level='paid', song='Sehr kosmisch'),\n",
       " Row(userId='1138', firstName='Kelly', page='NextSong', level='paid', song='March Of The Celts'),\n",
       " Row(userId='1138', firstName='Kelly', page='NextSong', level='paid', song='Electricity'),\n",
       " Row(userId='1138', firstName='Kelly', page='NextSong', level='paid', song='Aces High'),\n",
       " Row(userId='1138', firstName='Kelly', page='NextSong', level='paid', song='Bananeira'),\n",
       " Row(userId='1138', firstName='Kelly', page='NextSong', level='paid', song='The General'),\n",
       " Row(userId='1138', firstName='Kelly', page='NextSong', level='paid', song='HÃ\\x83Â©roe De Leyenda (VersiÃ\\x83Â³n Maxi)'),\n",
       " Row(userId='1138', firstName='Kelly', page='NextSong', level='paid', song=\"Don't Stop The Music\"),\n",
       " Row(userId='1138', firstName='Kelly', page='NextSong', level='paid', song=\"You're The One\"),\n",
       " Row(userId='1138', firstName='Kelly', page='NextSong', level='paid', song='Entering White Cecilia'),\n",
       " Row(userId='1138', firstName='Kelly', page='NextSong', level='paid', song='Piccolo Cesare'),\n",
       " Row(userId='1138', firstName='Kelly', page='Help', level='paid', song=None),\n",
       " Row(userId='1138', firstName='Kelly', page='NextSong', level='paid', song='Last Christmas (Album Version)'),\n",
       " Row(userId='1138', firstName='Kelly', page='NextSong', level='paid', song='You Shook Me'),\n",
       " Row(userId='1138', firstName='Kelly', page='NextSong', level='paid', song='Going Steady'),\n",
       " Row(userId='1138', firstName='Kelly', page='NextSong', level='paid', song='My Name Is'),\n",
       " Row(userId='1138', firstName='Kelly', page='NextSong', level='paid', song='Undo'),\n",
       " Row(userId='1138', firstName='Kelly', page='NextSong', level='paid', song='Secrets'),\n",
       " Row(userId='1138', firstName='Kelly', page='NextSong', level='paid', song='Good Times Gone (Album Version)'),\n",
       " Row(userId='1138', firstName='Kelly', page='NextSong', level='paid', song='Angelito'),\n",
       " Row(userId='1138', firstName='Kelly', page='NextSong', level='paid', song='Batdance ( LP Version )'),\n",
       " Row(userId='1138', firstName='Kelly', page='Home', level='paid', song=None),\n",
       " Row(userId='1138', firstName='Kelly', page='NextSong', level='paid', song='DiÃ\\x83Â¡kdal'),\n",
       " Row(userId='1138', firstName='Kelly', page='NextSong', level='paid', song='Whirring'),\n",
       " Row(userId='1138', firstName='Kelly', page='NextSong', level='paid', song='Potholderz (feat. Count Bass D)'),\n",
       " Row(userId='1138', firstName='Kelly', page='NextSong', level='paid', song='Seaside'),\n",
       " Row(userId='1138', firstName='Kelly', page='NextSong', level='paid', song='Louder Than A Bomb'),\n",
       " Row(userId='1138', firstName='Kelly', page='NextSong', level='paid', song='Just Like You'),\n",
       " Row(userId='1138', firstName='Kelly', page='NextSong', level='paid', song=\"You're The One\"),\n",
       " Row(userId='1138', firstName='Kelly', page='NextSong', level='paid', song='Turn It Again (Album Version)'),\n",
       " Row(userId='1138', firstName='Kelly', page='NextSong', level='paid', song='Everywhere I Go'),\n",
       " Row(userId='1138', firstName='Kelly', page='NextSong', level='paid', song=\"Easy Skankin'\"),\n",
       " Row(userId='1138', firstName='Kelly', page='NextSong', level='paid', song='Roses'),\n",
       " Row(userId='1138', firstName='Kelly', page='NextSong', level='paid', song='Killing Me Softly With His Song'),\n",
       " Row(userId='1138', firstName='Kelly', page='NextSong', level='paid', song='The Razor (Album Version)'),\n",
       " Row(userId='1138', firstName='Kelly', page='NextSong', level='paid', song='Idols and Anchors'),\n",
       " Row(userId='1138', firstName='Kelly', page='Downgrade', level='paid', song=None),\n",
       " Row(userId='1138', firstName='Kelly', page='Submit Downgrade', level='paid', song=None),\n",
       " Row(userId='1138', firstName='Kelly', page='Home', level='free', song=None),\n",
       " Row(userId='1138', firstName='Kelly', page='NextSong', level='free', song='Bones'),\n",
       " Row(userId='1138', firstName='Kelly', page='Home', level='free', song=None),\n",
       " Row(userId='1138', firstName='Kelly', page='NextSong', level='free', song='Grenouilles Mantidactylus (Small Frogs)')]"
      ]
     },
     "execution_count": 92,
     "metadata": {},
     "output_type": "execute_result"
    }
   ],
   "source": [
    "# Hence we see that the user Kelly has downgraded her account\n",
    "user_log_valid.select(['userId','firstName','page','level','song']).where(\"userId = '1138'\").collect()"
   ]
  },
  {
   "cell_type": "markdown",
   "metadata": {},
   "source": [
    "We see that when the user submits the downgrade request the level changes from Paid to Free"
   ]
  },
  {
   "cell_type": "code",
   "execution_count": 93,
   "metadata": {},
   "outputs": [],
   "source": [
    "# Let's create another udf that flags if the page is submit Downgrade as 1\n",
    "flagdowngrade=udf(lambda x : 1 if x=='Submit Downgrade' else 0,returnType=IntegerType())"
   ]
  },
  {
   "cell_type": "code",
   "execution_count": 94,
   "metadata": {},
   "outputs": [],
   "source": [
    "user_log_valid=user_log_valid.withColumn('downgraded',flagdowngrade(user_log_valid.page))"
   ]
  },
  {
   "cell_type": "code",
   "execution_count": 95,
   "metadata": {},
   "outputs": [
    {
     "data": {
      "text/plain": [
       "Row(artist='Showaddywaddy', auth='Logged In', firstName='Kenneth', gender='M', itemInSession=112, lastName='Matthews', length=232.93342, level='paid', location='Charlotte-Concord-Gastonia, NC-SC', method='PUT', page='NextSong', registration=1509380319284, sessionId=5132, song='Christmas Tears Will Fall', status=200, ts=1513720872284, userAgent='\"Mozilla/5.0 (Windows NT 6.1) AppleWebKit/537.36 (KHTML, like Gecko) Chrome/36.0.1985.125 Safari/537.36\"', userId='1046', hour='3', downgraded=0)"
      ]
     },
     "execution_count": 95,
     "metadata": {},
     "output_type": "execute_result"
    }
   ],
   "source": [
    "user_log_valid.head()"
   ]
  },
  {
   "cell_type": "code",
   "execution_count": 96,
   "metadata": {},
   "outputs": [],
   "source": [
    "from pyspark.sql import Window"
   ]
  },
  {
   "cell_type": "markdown",
   "metadata": {},
   "source": [
    "Window functions are a way of combining the values of ranges of rows in a DataFrame. When defining the window we can choose how to sort and group (with the partitionBy method) the rows and how wide of a window we'd like to use (described by rangeBetween or rowsBetween)."
   ]
  },
  {
   "cell_type": "code",
   "execution_count": 97,
   "metadata": {},
   "outputs": [],
   "source": [
    "# Reversing all the orders wrt to 'time' and rangeBetween is all the previous rows but no rows afterwards\n",
    "windowval=Window.partitionBy('userId').orderBy(desc('ts')).rangeBetween(Window.unboundedPreceding,0)"
   ]
  },
  {
   "cell_type": "code",
   "execution_count": 98,
   "metadata": {},
   "outputs": [],
   "source": [
    "user_log_valid=user_log_valid.withColumn('Phase',Fsum('downgraded').over(windowval))"
   ]
  },
  {
   "cell_type": "code",
   "execution_count": 100,
   "metadata": {},
   "outputs": [
    {
     "data": {
      "text/plain": [
       "[Row(userId='1138', firstname='Kelly', ts=1513729066284, page='Home', level='paid', downgraded=0, Phase=1),\n",
       " Row(userId='1138', firstname='Kelly', ts=1513729066284, page='NextSong', level='paid', downgraded=0, Phase=1),\n",
       " Row(userId='1138', firstname='Kelly', ts=1513729313284, page='NextSong', level='paid', downgraded=0, Phase=1),\n",
       " Row(userId='1138', firstname='Kelly', ts=1513729552284, page='NextSong', level='paid', downgraded=0, Phase=1),\n",
       " Row(userId='1138', firstname='Kelly', ts=1513729783284, page='NextSong', level='paid', downgraded=0, Phase=1),\n",
       " Row(userId='1138', firstname='Kelly', ts=1513730001284, page='NextSong', level='paid', downgraded=0, Phase=1),\n",
       " Row(userId='1138', firstname='Kelly', ts=1513730263284, page='NextSong', level='paid', downgraded=0, Phase=1),\n",
       " Row(userId='1138', firstname='Kelly', ts=1513730518284, page='NextSong', level='paid', downgraded=0, Phase=1),\n",
       " Row(userId='1138', firstname='Kelly', ts=1513730768284, page='NextSong', level='paid', downgraded=0, Phase=1),\n",
       " Row(userId='1138', firstname='Kelly', ts=1513731182284, page='NextSong', level='paid', downgraded=0, Phase=1),\n",
       " Row(userId='1138', firstname='Kelly', ts=1513731435284, page='NextSong', level='paid', downgraded=0, Phase=1),\n",
       " Row(userId='1138', firstname='Kelly', ts=1513731695284, page='NextSong', level='paid', downgraded=0, Phase=1),\n",
       " Row(userId='1138', firstname='Kelly', ts=1513731857284, page='NextSong', level='paid', downgraded=0, Phase=1),\n",
       " Row(userId='1138', firstname='Kelly', ts=1513732160284, page='NextSong', level='paid', downgraded=0, Phase=1),\n",
       " Row(userId='1138', firstname='Kelly', ts=1513732302284, page='NextSong', level='paid', downgraded=0, Phase=1),\n",
       " Row(userId='1138', firstname='Kelly', ts=1513732540284, page='NextSong', level='paid', downgraded=0, Phase=1),\n",
       " Row(userId='1138', firstname='Kelly', ts=1513732770284, page='NextSong', level='paid', downgraded=0, Phase=1),\n",
       " Row(userId='1138', firstname='Kelly', ts=1513732994284, page='NextSong', level='paid', downgraded=0, Phase=1),\n",
       " Row(userId='1138', firstname='Kelly', ts=1513733223284, page='NextSong', level='paid', downgraded=0, Phase=1),\n",
       " Row(userId='1138', firstname='Kelly', ts=1513733456284, page='NextSong', level='paid', downgraded=0, Phase=1),\n",
       " Row(userId='1138', firstname='Kelly', ts=1513733738284, page='NextSong', level='paid', downgraded=0, Phase=1),\n",
       " Row(userId='1138', firstname='Kelly', ts=1513733941284, page='NextSong', level='paid', downgraded=0, Phase=1),\n",
       " Row(userId='1138', firstname='Kelly', ts=1513734289284, page='NextSong', level='paid', downgraded=0, Phase=1),\n",
       " Row(userId='1138', firstname='Kelly', ts=1513734598284, page='NextSong', level='paid', downgraded=0, Phase=1),\n",
       " Row(userId='1138', firstname='Kelly', ts=1513734863284, page='NextSong', level='paid', downgraded=0, Phase=1),\n",
       " Row(userId='1138', firstname='Kelly', ts=1513735174284, page='NextSong', level='paid', downgraded=0, Phase=1),\n",
       " Row(userId='1138', firstname='Kelly', ts=1513735385284, page='NextSong', level='paid', downgraded=0, Phase=1),\n",
       " Row(userId='1138', firstname='Kelly', ts=1513736040284, page='NextSong', level='paid', downgraded=0, Phase=1),\n",
       " Row(userId='1138', firstname='Kelly', ts=1513736237284, page='NextSong', level='paid', downgraded=0, Phase=1),\n",
       " Row(userId='1138', firstname='Kelly', ts=1513736446284, page='NextSong', level='paid', downgraded=0, Phase=1),\n",
       " Row(userId='1138', firstname='Kelly', ts=1513736709284, page='NextSong', level='paid', downgraded=0, Phase=1),\n",
       " Row(userId='1138', firstname='Kelly', ts=1513736915284, page='NextSong', level='paid', downgraded=0, Phase=1),\n",
       " Row(userId='1138', firstname='Kelly', ts=1513737160284, page='NextSong', level='paid', downgraded=0, Phase=1),\n",
       " Row(userId='1138', firstname='Kelly', ts=1513737460284, page='NextSong', level='paid', downgraded=0, Phase=1),\n",
       " Row(userId='1138', firstname='Kelly', ts=1513737728284, page='NextSong', level='paid', downgraded=0, Phase=1),\n",
       " Row(userId='1138', firstname='Kelly', ts=1513737936284, page='NextSong', level='paid', downgraded=0, Phase=1),\n",
       " Row(userId='1138', firstname='Kelly', ts=1513738144284, page='NextSong', level='paid', downgraded=0, Phase=1),\n",
       " Row(userId='1138', firstname='Kelly', ts=1513738197284, page='Help', level='paid', downgraded=0, Phase=1),\n",
       " Row(userId='1138', firstname='Kelly', ts=1513738432284, page='NextSong', level='paid', downgraded=0, Phase=1),\n",
       " Row(userId='1138', firstname='Kelly', ts=1513763195284, page='NextSong', level='paid', downgraded=0, Phase=1),\n",
       " Row(userId='1138', firstname='Kelly', ts=1513763453284, page='NextSong', level='paid', downgraded=0, Phase=1),\n",
       " Row(userId='1138', firstname='Kelly', ts=1513763622284, page='NextSong', level='paid', downgraded=0, Phase=1),\n",
       " Row(userId='1138', firstname='Kelly', ts=1513763890284, page='NextSong', level='paid', downgraded=0, Phase=1),\n",
       " Row(userId='1138', firstname='Kelly', ts=1513764238284, page='NextSong', level='paid', downgraded=0, Phase=1),\n",
       " Row(userId='1138', firstname='Kelly', ts=1513764462284, page='NextSong', level='paid', downgraded=0, Phase=1),\n",
       " Row(userId='1138', firstname='Kelly', ts=1513764782284, page='NextSong', level='paid', downgraded=0, Phase=1),\n",
       " Row(userId='1138', firstname='Kelly', ts=1513765075284, page='NextSong', level='paid', downgraded=0, Phase=1),\n",
       " Row(userId='1138', firstname='Kelly', ts=1513765075284, page='Home', level='paid', downgraded=0, Phase=1),\n",
       " Row(userId='1138', firstname='Kelly', ts=1513765448284, page='NextSong', level='paid', downgraded=0, Phase=1),\n",
       " Row(userId='1138', firstname='Kelly', ts=1513765655284, page='NextSong', level='paid', downgraded=0, Phase=1),\n",
       " Row(userId='1138', firstname='Kelly', ts=1513765818284, page='NextSong', level='paid', downgraded=0, Phase=1),\n",
       " Row(userId='1138', firstname='Kelly', ts=1513766091284, page='NextSong', level='paid', downgraded=0, Phase=1),\n",
       " Row(userId='1138', firstname='Kelly', ts=1513766189284, page='NextSong', level='paid', downgraded=0, Phase=1),\n",
       " Row(userId='1138', firstname='Kelly', ts=1513766385284, page='NextSong', level='paid', downgraded=0, Phase=1),\n",
       " Row(userId='1138', firstname='Kelly', ts=1513766599284, page='NextSong', level='paid', downgraded=0, Phase=1),\n",
       " Row(userId='1138', firstname='Kelly', ts=1513766838284, page='NextSong', level='paid', downgraded=0, Phase=1),\n",
       " Row(userId='1138', firstname='Kelly', ts=1513767203284, page='NextSong', level='paid', downgraded=0, Phase=1),\n",
       " Row(userId='1138', firstname='Kelly', ts=1513767413284, page='NextSong', level='paid', downgraded=0, Phase=1),\n",
       " Row(userId='1138', firstname='Kelly', ts=1513767643284, page='NextSong', level='paid', downgraded=0, Phase=1),\n",
       " Row(userId='1138', firstname='Kelly', ts=1513768012284, page='NextSong', level='paid', downgraded=0, Phase=1),\n",
       " Row(userId='1138', firstname='Kelly', ts=1513768242284, page='NextSong', level='paid', downgraded=0, Phase=1),\n",
       " Row(userId='1138', firstname='Kelly', ts=1513768452284, page='NextSong', level='paid', downgraded=0, Phase=1),\n",
       " Row(userId='1138', firstname='Kelly', ts=1513768453284, page='Downgrade', level='paid', downgraded=0, Phase=1),\n",
       " Row(userId='1138', firstname='Kelly', ts=1513768454284, page='Submit Downgrade', level='paid', downgraded=1, Phase=1),\n",
       " Row(userId='1138', firstname='Kelly', ts=1513768456284, page='Home', level='free', downgraded=0, Phase=0),\n",
       " Row(userId='1138', firstname='Kelly', ts=1513814880284, page='NextSong', level='free', downgraded=0, Phase=0),\n",
       " Row(userId='1138', firstname='Kelly', ts=1513821430284, page='Home', level='free', downgraded=0, Phase=0),\n",
       " Row(userId='1138', firstname='Kelly', ts=1513833144284, page='NextSong', level='free', downgraded=0, Phase=0)]"
      ]
     },
     "execution_count": 100,
     "metadata": {},
     "output_type": "execute_result"
    }
   ],
   "source": [
    "user_log_valid.select(['userId','firstname','ts','page','level','downgraded','Phase']).where(\"userId=='1138'\").sort('ts').collect()"
   ]
  },
  {
   "cell_type": "markdown",
   "metadata": {},
   "source": [
    "## Some Quick Quiz "
   ]
  },
  {
   "cell_type": "markdown",
   "metadata": {},
   "source": [
    "Q1. Which page did user id \"\" (empty string) NOT visit?"
   ]
  },
  {
   "cell_type": "code",
   "execution_count": 109,
   "metadata": {},
   "outputs": [
    {
     "data": {
      "text/plain": [
       "[Row(userId='', firstname=None, page='Home'),\n",
       " Row(userId='', firstname=None, page='About'),\n",
       " Row(userId='', firstname=None, page='Login'),\n",
       " Row(userId='', firstname=None, page='Help')]"
      ]
     },
     "execution_count": 109,
     "metadata": {},
     "output_type": "execute_result"
    }
   ],
   "source": [
    "user_log.select(['userId','firstname','page']).dropDuplicates().where(\"userId=''\").collect()"
   ]
  },
  {
   "cell_type": "markdown",
   "metadata": {},
   "source": [
    "Q2. How many female users do we have in the data set?"
   ]
  },
  {
   "cell_type": "code",
   "execution_count": 117,
   "metadata": {},
   "outputs": [
    {
     "data": {
      "text/plain": [
       "462"
      ]
     },
     "execution_count": 117,
     "metadata": {},
     "output_type": "execute_result"
    }
   ],
   "source": [
    "user_log.select(['userId','firstname']).dropDuplicates().where(\"gender='F'\").count()"
   ]
  },
  {
   "cell_type": "markdown",
   "metadata": {},
   "source": [
    "Q3. How many songs were played from the most played artist"
   ]
  },
  {
   "cell_type": "code",
   "execution_count": 128,
   "metadata": {},
   "outputs": [
    {
     "name": "stdout",
     "output_type": "stream",
     "text": [
      "+--------------------+-----+\n",
      "|              artist|count|\n",
      "+--------------------+-----+\n",
      "|                null| 1653|\n",
      "|            Coldplay|   83|\n",
      "|       Kings Of Leon|   69|\n",
      "|Florence + The Ma...|   52|\n",
      "|            BjÃÂ¶rk|   46|\n",
      "|       Dwight Yoakam|   45|\n",
      "|       Justin Bieber|   43|\n",
      "|      The Black Keys|   40|\n",
      "|         OneRepublic|   37|\n",
      "|                Muse|   36|\n",
      "|        Jack Johnson|   36|\n",
      "|           Radiohead|   31|\n",
      "|        Taylor Swift|   29|\n",
      "|          Lily Allen|   28|\n",
      "|               Train|   28|\n",
      "|Barry Tuckwell/Ac...|   28|\n",
      "|           Metallica|   27|\n",
      "|          Nickelback|   27|\n",
      "|           Daft Punk|   27|\n",
      "|          Kanye West|   26|\n",
      "+--------------------+-----+\n",
      "only showing top 20 rows\n",
      "\n"
     ]
    }
   ],
   "source": [
    "user_log.select(['userId','artist','song']).groupBy('artist').count().sort('count',ascending=False).show()"
   ]
  },
  {
   "cell_type": "markdown",
   "metadata": {},
   "source": [
    "Q4. How many songs do users listen to on average between visiting our home page? Please round your answer to the closest integer."
   ]
  },
  {
   "cell_type": "code",
   "execution_count": 129,
   "metadata": {},
   "outputs": [],
   "source": [
    "songs_btw_home=udf(lambda ishome:int(ishome=='Home'),IntegerType())"
   ]
  },
  {
   "cell_type": "code",
   "execution_count": 130,
   "metadata": {},
   "outputs": [],
   "source": [
    "usr_window=Window.partitionBy('userId').orderBy(desc('ts')).rangeBetween(Window.unboundedPreceding,0)"
   ]
  },
  {
   "cell_type": "code",
   "execution_count": 132,
   "metadata": {},
   "outputs": [],
   "source": [
    "cumsum=user_log.filter((user_log.page=='NextSong') | (user_log.page=='Home')).select(['userId','page','ts']) \\\n",
    "        .withColumn('homevisit',songs_btw_home(user_log.page)) \\\n",
    "        .withColumn('period',Fsum('homevisit').over(usr_window))"
   ]
  },
  {
   "cell_type": "code",
   "execution_count": 133,
   "metadata": {},
   "outputs": [
    {
     "name": "stdout",
     "output_type": "stream",
     "text": [
      "+------------------+\n",
      "|avg(count(period))|\n",
      "+------------------+\n",
      "| 6.898347107438017|\n",
      "+------------------+\n",
      "\n"
     ]
    }
   ],
   "source": [
    "cumsum.filter(cumsum.page=='NextSong').groupBy(['userId','period']).agg({'period':'count'}) \\\n",
    "        .agg({'count(period)':'avg'}).show()"
   ]
  },
  {
   "cell_type": "code",
   "execution_count": 147,
   "metadata": {},
   "outputs": [
    {
     "data": {
      "text/plain": [
       "[Row(userId='2294', page='NextSong', ts=1513787467284, homevisit=0, period=0),\n",
       " Row(userId='2294', page='NextSong', ts=1513786920284, homevisit=0, period=0),\n",
       " Row(userId='2294', page='NextSong', ts=1513786737284, homevisit=0, period=0),\n",
       " Row(userId='2294', page='NextSong', ts=1513786461284, homevisit=0, period=0),\n",
       " Row(userId='2294', page='Home', ts=1513786339284, homevisit=1, period=1),\n",
       " Row(userId='2294', page='NextSong', ts=1513786261284, homevisit=0, period=1),\n",
       " Row(userId='2294', page='NextSong', ts=1513786041284, homevisit=0, period=1),\n",
       " Row(userId='2294', page='NextSong', ts=1513785806284, homevisit=0, period=1),\n",
       " Row(userId='2294', page='NextSong', ts=1513785549284, homevisit=0, period=1),\n",
       " Row(userId='2294', page='NextSong', ts=1513785330284, homevisit=0, period=1),\n",
       " Row(userId='2294', page='NextSong', ts=1513785086284, homevisit=0, period=1),\n",
       " Row(userId='2294', page='NextSong', ts=1513784808284, homevisit=0, period=1),\n",
       " Row(userId='2294', page='NextSong', ts=1513784296284, homevisit=0, period=1),\n",
       " Row(userId='2294', page='NextSong', ts=1513783984284, homevisit=0, period=1),\n",
       " Row(userId='2294', page='NextSong', ts=1513783804284, homevisit=0, period=1),\n",
       " Row(userId='2294', page='NextSong', ts=1513783585284, homevisit=0, period=1),\n",
       " Row(userId='2294', page='NextSong', ts=1513783319284, homevisit=0, period=1),\n",
       " Row(userId='2294', page='NextSong', ts=1513782847284, homevisit=0, period=1),\n",
       " Row(userId='2294', page='NextSong', ts=1513782658284, homevisit=0, period=1),\n",
       " Row(userId='2294', page='NextSong', ts=1513782175284, homevisit=0, period=1),\n",
       " Row(userId='2294', page='NextSong', ts=1513781920284, homevisit=0, period=1),\n",
       " Row(userId='2294', page='NextSong', ts=1513781540284, homevisit=0, period=1),\n",
       " Row(userId='2294', page='Home', ts=1513781169284, homevisit=1, period=2),\n",
       " Row(userId='2294', page='NextSong', ts=1513781025284, homevisit=0, period=2),\n",
       " Row(userId='2294', page='NextSong', ts=1513780819284, homevisit=0, period=2),\n",
       " Row(userId='2294', page='NextSong', ts=1513780579284, homevisit=0, period=2),\n",
       " Row(userId='2294', page='Home', ts=1513780160284, homevisit=1, period=3),\n",
       " Row(userId='2294', page='NextSong', ts=1513779734284, homevisit=0, period=3),\n",
       " Row(userId='2294', page='NextSong', ts=1513779476284, homevisit=0, period=3),\n",
       " Row(userId='2294', page='NextSong', ts=1513779255284, homevisit=0, period=3),\n",
       " Row(userId='2294', page='NextSong', ts=1513779022284, homevisit=0, period=3),\n",
       " Row(userId='2294', page='NextSong', ts=1513778770284, homevisit=0, period=3),\n",
       " Row(userId='2294', page='NextSong', ts=1513778650284, homevisit=0, period=3),\n",
       " Row(userId='2294', page='NextSong', ts=1513778486284, homevisit=0, period=3),\n",
       " Row(userId='2294', page='NextSong', ts=1513778261284, homevisit=0, period=3),\n",
       " Row(userId='2294', page='NextSong', ts=1513778035284, homevisit=0, period=3),\n",
       " Row(userId='2294', page='NextSong', ts=1513777797284, homevisit=0, period=3),\n",
       " Row(userId='2294', page='NextSong', ts=1513777601284, homevisit=0, period=3),\n",
       " Row(userId='2294', page='NextSong', ts=1513777411284, homevisit=0, period=3),\n",
       " Row(userId='2294', page='NextSong', ts=1513777295284, homevisit=0, period=3),\n",
       " Row(userId='2294', page='NextSong', ts=1513777061284, homevisit=0, period=3),\n",
       " Row(userId='2294', page='NextSong', ts=1513776894284, homevisit=0, period=3),\n",
       " Row(userId='2294', page='NextSong', ts=1513776431284, homevisit=0, period=3),\n",
       " Row(userId='2294', page='Home', ts=1513776256284, homevisit=1, period=4),\n",
       " Row(userId='2294', page='NextSong', ts=1513776034284, homevisit=0, period=4),\n",
       " Row(userId='2294', page='NextSong', ts=1513775825284, homevisit=0, period=4),\n",
       " Row(userId='2294', page='NextSong', ts=1513775504284, homevisit=0, period=4),\n",
       " Row(userId='2294', page='NextSong', ts=1513775333284, homevisit=0, period=4),\n",
       " Row(userId='2294', page='Home', ts=1513775245284, homevisit=1, period=5),\n",
       " Row(userId='2294', page='NextSong', ts=1513775155284, homevisit=0, period=5),\n",
       " Row(userId='2294', page='NextSong', ts=1513774894284, homevisit=0, period=5),\n",
       " Row(userId='2294', page='NextSong', ts=1513774650284, homevisit=0, period=5),\n",
       " Row(userId='2294', page='NextSong', ts=1513774519284, homevisit=0, period=5),\n",
       " Row(userId='2294', page='NextSong', ts=1513774270284, homevisit=0, period=5),\n",
       " Row(userId='2294', page='NextSong', ts=1513774089284, homevisit=0, period=5),\n",
       " Row(userId='2294', page='NextSong', ts=1513773887284, homevisit=0, period=5),\n",
       " Row(userId='2294', page='NextSong', ts=1513773644284, homevisit=0, period=5),\n",
       " Row(userId='2294', page='NextSong', ts=1513773443284, homevisit=0, period=5),\n",
       " Row(userId='2294', page='NextSong', ts=1513773276284, homevisit=0, period=5),\n",
       " Row(userId='2294', page='NextSong', ts=1513773034284, homevisit=0, period=5)]"
      ]
     },
     "execution_count": 147,
     "metadata": {},
     "output_type": "execute_result"
    }
   ],
   "source": [
    "cumsum.select(['userId','page','ts','homevisit','period']).sort(desc('ts')).where('userId==\"2294\"').collect()"
   ]
  },
  {
   "cell_type": "code",
   "execution_count": 149,
   "metadata": {},
   "outputs": [
    {
     "name": "stdout",
     "output_type": "stream",
     "text": [
      "+------+------+-------------+\n",
      "|userId|period|count(period)|\n",
      "+------+------+-------------+\n",
      "|  1436|     0|            2|\n",
      "|  2088|     1|           13|\n",
      "|  2162|     0|           19|\n",
      "|  2162|     2|           15|\n",
      "|  2294|     0|            4|\n",
      "|  2294|     1|           17|\n",
      "|  2294|     2|            3|\n",
      "|  2294|     3|           16|\n",
      "|  2294|     4|            4|\n",
      "|  2294|     5|           11|\n",
      "|  2904|     0|            1|\n",
      "|   691|     1|            3|\n",
      "|  1394|     0|            9|\n",
      "|  1394|     1|           17|\n",
      "|  2275|     0|            3|\n",
      "|  2756|     0|            4|\n",
      "|  2756|     2|            1|\n",
      "|   451|     0|            1|\n",
      "|   451|     1|            1|\n",
      "|   800|     1|            2|\n",
      "+------+------+-------------+\n",
      "only showing top 20 rows\n",
      "\n"
     ]
    }
   ],
   "source": [
    "cumsum.filter(cumsum.page=='NextSong').groupBy(['userId','period']).agg({'period':'count'}) \\\n",
    ".show()"
   ]
  },
  {
   "cell_type": "code",
   "execution_count": null,
   "metadata": {},
   "outputs": [],
   "source": []
  }
 ],
 "metadata": {
  "kernelspec": {
   "display_name": "Python 3",
   "language": "python",
   "name": "python3"
  },
  "language_info": {
   "codemirror_mode": {
    "name": "ipython",
    "version": 3
   },
   "file_extension": ".py",
   "mimetype": "text/x-python",
   "name": "python",
   "nbconvert_exporter": "python",
   "pygments_lexer": "ipython3",
   "version": "3.6.10"
  }
 },
 "nbformat": 4,
 "nbformat_minor": 4
}
