{
 "cells": [
  {
   "cell_type": "code",
   "execution_count": 13,
   "metadata": {},
   "outputs": [],
   "source": [
    "from pyspark.sql import SparkSession\n",
    "from pyspark.ml.feature import RegexTokenizer,VectorAssembler,Normalizer,StandardScaler\n",
    "from pyspark.sql.functions import udf\n",
    "from pyspark.sql.types import IntegerType\n",
    "\n",
    "import re"
   ]
  },
  {
   "cell_type": "code",
   "execution_count": 2,
   "metadata": {},
   "outputs": [],
   "source": [
    "# Creating a Spark Session \n",
    "spark=SparkSession.builder.master('local').appName('Word Count').getOrCreate()"
   ]
  },
  {
   "cell_type": "markdown",
   "metadata": {},
   "source": [
    "## Reading the dataset "
   ]
  },
  {
   "cell_type": "code",
   "execution_count": 8,
   "metadata": {},
   "outputs": [
    {
     "data": {
      "text/plain": [
       "(['Body', 'Id', 'Tags', 'Title', 'oneTag'], 100000)"
      ]
     },
     "execution_count": 8,
     "metadata": {},
     "output_type": "execute_result"
    }
   ],
   "source": [
    "# Printing the columns and the number of rows\n",
    "df=spark.read.json('../data/Train_onetag_small.json')\n",
    "df.columns,df.count()"
   ]
  },
  {
   "cell_type": "code",
   "execution_count": 4,
   "metadata": {},
   "outputs": [
    {
     "name": "stdout",
     "output_type": "stream",
     "text": [
      "+--------------------+---+--------------------+--------------------+-------+\n",
      "|                Body| Id|                Tags|               Title| oneTag|\n",
      "+--------------------+---+--------------------+--------------------+-------+\n",
      "|<p>I'd like to ch...|  1|php image-process...|How to check if a...|    php|\n",
      "|<p>In my favorite...|  2|             firefox|How can I prevent...|firefox|\n",
      "|<p>I am import ma...|  3|r matlab machine-...|R Error Invalid t...|      r|\n",
      "+--------------------+---+--------------------+--------------------+-------+\n",
      "only showing top 3 rows\n",
      "\n"
     ]
    }
   ],
   "source": [
    "# Understanding the data\n",
    "df.show(3)"
   ]
  },
  {
   "cell_type": "markdown",
   "metadata": {},
   "source": [
    "## Tokenization\n",
    "Tokenization splits strings into separate words. Spark has a [Tokenizer](https://spark.apache.org/docs/latest/ml-features.html#tokenizer) class as well as RegexTokenizer, which allows for more control over the tokenization process."
   ]
  },
  {
   "cell_type": "code",
   "execution_count": 10,
   "metadata": {},
   "outputs": [
    {
     "name": "stdout",
     "output_type": "stream",
     "text": [
      "+--------------------+---+--------------------+--------------------+----------------+--------------------+\n",
      "|                Body| Id|                Tags|               Title|          oneTag|               words|\n",
      "+--------------------+---+--------------------+--------------------+----------------+--------------------+\n",
      "|<p>I'd like to ch...|  1|php image-process...|How to check if a...|             php|[p, i, d, like, t...|\n",
      "|<p>In my favorite...|  2|             firefox|How can I prevent...|         firefox|[p, in, my, favor...|\n",
      "|<p>I am import ma...|  3|r matlab machine-...|R Error Invalid t...|               r|[p, i, am, import...|\n",
      "|<p>This is probab...|  4|     c# url encoding|How do I replace ...|              c#|[p, this, is, pro...|\n",
      "|<pre><code>functi...|  5|php api file-get-...|How to modify who...|             php|[pre, code, funct...|\n",
      "|<p>I am using a m...|  6|proxy active-dire...|setting proxy in ...|active-directory|[p, i, am, using,...|\n",
      "|<p>My image is ca...|  7|           core-plot|How to draw barpl...|           other|[p, my, image, is...|\n",
      "|<p>I've decided t...|  8|c# asp.net window...|How to fetch an X...|              c#|[p, i, ve, decide...|\n",
      "|<p>Do you know of...|  9|.net javascript c...|.NET library for ...|      javascript|[p, do, you, know...|\n",
      "|<p>I'm using SQL ...| 10|sql variables par...|SQL Server : proc...|             sql|[p, i, m, using, ...|\n",
      "|<p>Some commercia...| 11|.net obfuscation ...|How do commercial...|            .net|[p, some, commerc...|\n",
      "|<p>This may sound...| 12|algorithm languag...|Crappy Random Num...|       algorithm|[p, this, may, so...|\n",
      "|<p>how can I move...| 13|postfix migration...|Migrate from Mdae...|           other|[p, how, can, i, ...|\n",
      "|<p>Few month ago ...| 14|documentation lat...|Where can I find ...|   documentation|[p, few, month, a...|\n",
      "|<p>When you hit a...| 15|           windows-7|Can I stop window...|       windows-7|[p, when, you, hi...|\n",
      "|<p>A lot of frame...| 16|php url-routing c...|PHP framework URL...|             php|[p, a, lot, of, f...|\n",
      "|<p>I'm running a ...| 17|   r temporary-files|What creates \".rd...|               r|[p, i, m, running...|\n",
      "|<p>Hello<br>\n",
      "I'm ...| 18|         wpf binding|WPF: multiple con...|             wpf|[p, hello, br, i,...|\n",
      "|<p>Does anyone kn...| 19|javascript code-g...|Play framework au...|      javascript|[p, does, anyone,...|\n",
      "|<p>=) I need your...| 20|php xml hash mult...|Creating a repeti...|             php|[p, i, need, your...|\n",
      "+--------------------+---+--------------------+--------------------+----------------+--------------------+\n",
      "only showing top 20 rows\n",
      "\n"
     ]
    }
   ],
   "source": [
    "regexTokenizer=RegexTokenizer(inputCol='Body',outputCol='words',pattern='\\\\W')\n",
    "df=regexTokenizer.transform(df)\n",
    "df.show()"
   ]
  },
  {
   "cell_type": "code",
   "execution_count": 14,
   "metadata": {},
   "outputs": [],
   "source": [
    "# Counting the number of paragraphs and links in each body tag\n",
    "num_para=udf(lambda x : len(re.findall(\"</p>\",x)),IntegerType())\n",
    "num_links=udf(lambda x: len(re.findall(\"</a>\",x)),IntegerType())"
   ]
  },
  {
   "cell_type": "code",
   "execution_count": 16,
   "metadata": {},
   "outputs": [
    {
     "name": "stdout",
     "output_type": "stream",
     "text": [
      "+--------------------+--------------------+--------+--------+\n",
      "|                Body|               words|NumParas|NumLinks|\n",
      "+--------------------+--------------------+--------+--------+\n",
      "|<p>I'd like to ch...|[p, i, d, like, t...|       2|       0|\n",
      "|<p>In my favorite...|[p, in, my, favor...|       2|       0|\n",
      "|<p>I am import ma...|[p, i, am, import...|       4|       0|\n",
      "|<p>This is probab...|[p, this, is, pro...|       7|       1|\n",
      "|<pre><code>functi...|[pre, code, funct...|       2|       0|\n",
      "|<p>I am using a m...|[p, i, am, using,...|       1|       0|\n",
      "|<p>My image is ca...|[p, my, image, is...|       9|       0|\n",
      "|<p>I've decided t...|[p, i, ve, decide...|       4|       0|\n",
      "|<p>Do you know of...|[p, do, you, know...|       4|       0|\n",
      "|<p>I'm using SQL ...|[p, i, m, using, ...|       3|       0|\n",
      "|<p>Some commercia...|[p, some, commerc...|       4|       1|\n",
      "|<p>This may sound...|[p, this, may, so...|       4|       0|\n",
      "|<p>how can I move...|[p, how, can, i, ...|       1|       0|\n",
      "|<p>Few month ago ...|[p, few, month, a...|       2|       0|\n",
      "|<p>When you hit a...|[p, when, you, hi...|       1|       0|\n",
      "|<p>A lot of frame...|[p, a, lot, of, f...|      12|       0|\n",
      "|<p>I'm running a ...|[p, i, m, running...|       4|       0|\n",
      "|<p>Hello<br>\n",
      "I'm ...|[p, hello, br, i,...|       3|       0|\n",
      "|<p>Does anyone kn...|[p, does, anyone,...|       4|       1|\n",
      "|<p>=) I need your...|[p, i, need, your...|       8|       0|\n",
      "+--------------------+--------------------+--------+--------+\n",
      "only showing top 20 rows\n",
      "\n"
     ]
    }
   ],
   "source": [
    "df=df.withColumn('NumParas',num_para(df.Body))\n",
    "df=df.withColumn('NumLinks',num_links(df.Body))\n",
    "df.select(['Body','words','NumParas','NumLinks']).show()"
   ]
  },
  {
   "cell_type": "code",
   "execution_count": 19,
   "metadata": {},
   "outputs": [],
   "source": [
    "# Counting the number of words in each body tag\n",
    "\n",
    "num_words=udf(lambda x : len(x),IntegerType())\n",
    "df=df.withColumn(\"BodyLength\",num_words(df.words))"
   ]
  },
  {
   "cell_type": "code",
   "execution_count": 20,
   "metadata": {},
   "outputs": [
    {
     "name": "stdout",
     "output_type": "stream",
     "text": [
      "+--------------------+--------------------+--------+--------+----------+\n",
      "|                Body|               words|NumParas|NumLinks|BodyLength|\n",
      "+--------------------+--------------------+--------+--------+----------+\n",
      "|<p>I'd like to ch...|[p, i, d, like, t...|       2|       0|        83|\n",
      "|<p>In my favorite...|[p, in, my, favor...|       2|       0|        71|\n",
      "|<p>I am import ma...|[p, i, am, import...|       4|       0|      3161|\n",
      "|<p>This is probab...|[p, this, is, pro...|       7|       1|       115|\n",
      "|<pre><code>functi...|[pre, code, funct...|       2|       0|       148|\n",
      "|<p>I am using a m...|[p, i, am, using,...|       1|       0|        69|\n",
      "|<p>My image is ca...|[p, my, image, is...|       9|       0|       112|\n",
      "|<p>I've decided t...|[p, i, ve, decide...|       4|       0|       161|\n",
      "|<p>Do you know of...|[p, do, you, know...|       4|       0|       102|\n",
      "|<p>I'm using SQL ...|[p, i, m, using, ...|       3|       0|        67|\n",
      "|<p>Some commercia...|[p, some, commerc...|       4|       1|       134|\n",
      "|<p>This may sound...|[p, this, may, so...|       4|       0|       144|\n",
      "|<p>how can I move...|[p, how, can, i, ...|       1|       0|        19|\n",
      "|<p>Few month ago ...|[p, few, month, a...|       2|       0|        42|\n",
      "|<p>When you hit a...|[p, when, you, hi...|       1|       0|        37|\n",
      "|<p>A lot of frame...|[p, a, lot, of, f...|      12|       0|       385|\n",
      "|<p>I'm running a ...|[p, i, m, running...|       4|       0|       373|\n",
      "|<p>Hello<br>\n",
      "I'm ...|[p, hello, br, i,...|       3|       0|       209|\n",
      "|<p>Does anyone kn...|[p, does, anyone,...|       4|       1|       116|\n",
      "|<p>=) I need your...|[p, i, need, your...|       8|       0|       390|\n",
      "+--------------------+--------------------+--------+--------+----------+\n",
      "only showing top 20 rows\n",
      "\n"
     ]
    }
   ],
   "source": [
    "df.select(['Body','words','NumParas','NumLinks','BodyLength']).show()"
   ]
  },
  {
   "cell_type": "markdown",
   "metadata": {},
   "source": [
    "## Vector Assembler\n",
    "Since NumParas, Numlinks and BodyLength can be a important feature set, we can combine all together with the help of VectorAssembler"
   ]
  },
  {
   "cell_type": "code",
   "execution_count": 21,
   "metadata": {},
   "outputs": [],
   "source": [
    "assembler=VectorAssembler(inputCols=['NumParas','NumLinks','BodyLength'],outputCol='NumFeatures')\n",
    "df=assembler.transform(df)"
   ]
  },
  {
   "cell_type": "code",
   "execution_count": 22,
   "metadata": {},
   "outputs": [
    {
     "name": "stdout",
     "output_type": "stream",
     "text": [
      "+--------------------+----------------+\n",
      "|                Body|     NumFeatures|\n",
      "+--------------------+----------------+\n",
      "|<p>I'd like to ch...|  [2.0,0.0,83.0]|\n",
      "|<p>In my favorite...|  [2.0,0.0,71.0]|\n",
      "|<p>I am import ma...|[4.0,0.0,3161.0]|\n",
      "|<p>This is probab...| [7.0,1.0,115.0]|\n",
      "|<pre><code>functi...| [2.0,0.0,148.0]|\n",
      "|<p>I am using a m...|  [1.0,0.0,69.0]|\n",
      "|<p>My image is ca...| [9.0,0.0,112.0]|\n",
      "|<p>I've decided t...| [4.0,0.0,161.0]|\n",
      "|<p>Do you know of...| [4.0,0.0,102.0]|\n",
      "|<p>I'm using SQL ...|  [3.0,0.0,67.0]|\n",
      "|<p>Some commercia...| [4.0,1.0,134.0]|\n",
      "|<p>This may sound...| [4.0,0.0,144.0]|\n",
      "|<p>how can I move...|  [1.0,0.0,19.0]|\n",
      "|<p>Few month ago ...|  [2.0,0.0,42.0]|\n",
      "|<p>When you hit a...|  [1.0,0.0,37.0]|\n",
      "|<p>A lot of frame...|[12.0,0.0,385.0]|\n",
      "|<p>I'm running a ...| [4.0,0.0,373.0]|\n",
      "|<p>Hello<br>\n",
      "I'm ...| [3.0,0.0,209.0]|\n",
      "|<p>Does anyone kn...| [4.0,1.0,116.0]|\n",
      "|<p>=) I need your...| [8.0,0.0,390.0]|\n",
      "+--------------------+----------------+\n",
      "only showing top 20 rows\n",
      "\n"
     ]
    }
   ],
   "source": [
    "df.select(['Body','NumFeatures']).show()"
   ]
  },
  {
   "cell_type": "markdown",
   "metadata": {},
   "source": [
    "## Normalizing the Features\n",
    "It brings the features on the same scale such that sum of all the elements of a row is 1."
   ]
  },
  {
   "cell_type": "code",
   "execution_count": 23,
   "metadata": {},
   "outputs": [],
   "source": [
    "scaler=Normalizer(inputCol='NumFeatures',outputCol='ScaledNumFeatures')\n",
    "df=scaler.transform(df)"
   ]
  },
  {
   "cell_type": "code",
   "execution_count": 25,
   "metadata": {},
   "outputs": [
    {
     "data": {
      "text/plain": [
       "[Row(Body=\"<p>I'd like to check if an uploaded file is an image file (e.g png, jpg, jpeg, gif, bmp) or another file. The problem is that I'm using Uploadify to upload the files, which changes the mime type and gives a 'text/octal' or something as the mime type, no matter which file type you upload.</p>\\n\\n<p>Is there a way to check if the uploaded file is an image apart from checking the file extension using PHP?</p>\\n\", NumFeatures=DenseVector([2.0, 0.0, 83.0]), ScaledNumFeatures=DenseVector([0.0241, 0.0, 0.9997])),\n",
       " Row(Body='<p>In my favorite editor (vim), I regularly use ctrl-w to execute a certain action. Now, it quite often happens to me that firefox is the active window (on windows) while I still look at vim (thinking vim is the active window) and press ctrl-w which closes firefox. This is not what I want. Is there a way to stop ctrl-w from closing firefox?</p>\\n\\n<p>Rene</p>\\n', NumFeatures=DenseVector([2.0, 0.0, 71.0]), ScaledNumFeatures=DenseVector([0.0282, 0.0, 0.9996]))]"
      ]
     },
     "execution_count": 25,
     "metadata": {},
     "output_type": "execute_result"
    }
   ],
   "source": [
    "df.select(['Body','NumFeatures','ScaledNumFeatures']).head(2)"
   ]
  },
  {
   "cell_type": "markdown",
   "metadata": {},
   "source": [
    "## StandardScaler\n",
    "Another way to bring values on the same scale is to Standardize the data such the mean is 0 and all the observations are with in one std units."
   ]
  },
  {
   "cell_type": "code",
   "execution_count": 26,
   "metadata": {},
   "outputs": [],
   "source": [
    "scaler2=StandardScaler(inputCol='NumFeatures',outputCol='Scaled2NumFeatures')\n",
    "scalerModel=scaler2.fit(df)\n",
    "df=scalerModel.transform(df)"
   ]
  },
  {
   "cell_type": "code",
   "execution_count": 27,
   "metadata": {},
   "outputs": [
    {
     "data": {
      "text/plain": [
       "[Row(Body=\"<p>I'd like to check if an uploaded file is an image file (e.g png, jpg, jpeg, gif, bmp) or another file. The problem is that I'm using Uploadify to upload the files, which changes the mime type and gives a 'text/octal' or something as the mime type, no matter which file type you upload.</p>\\n\\n<p>Is there a way to check if the uploaded file is an image apart from checking the file extension using PHP?</p>\\n\", NumFeatures=DenseVector([2.0, 0.0, 83.0]), ScaledNumFeatures=DenseVector([0.0241, 0.0, 0.9997]), Scaled2NumFeatures=DenseVector([0.7037, 0.0, 0.4325])),\n",
       " Row(Body='<p>In my favorite editor (vim), I regularly use ctrl-w to execute a certain action. Now, it quite often happens to me that firefox is the active window (on windows) while I still look at vim (thinking vim is the active window) and press ctrl-w which closes firefox. This is not what I want. Is there a way to stop ctrl-w from closing firefox?</p>\\n\\n<p>Rene</p>\\n', NumFeatures=DenseVector([2.0, 0.0, 71.0]), ScaledNumFeatures=DenseVector([0.0282, 0.0, 0.9996]), Scaled2NumFeatures=DenseVector([0.7037, 0.0, 0.3699]))]"
      ]
     },
     "execution_count": 27,
     "metadata": {},
     "output_type": "execute_result"
    }
   ],
   "source": [
    "df.select(['Body','NumFeatures','ScaledNumFeatures','Scaled2NumFeatures']).head(2)"
   ]
  },
  {
   "cell_type": "code",
   "execution_count": null,
   "metadata": {},
   "outputs": [],
   "source": []
  }
 ],
 "metadata": {
  "kernelspec": {
   "display_name": "Python 3",
   "language": "python",
   "name": "python3"
  },
  "language_info": {
   "codemirror_mode": {
    "name": "ipython",
    "version": 3
   },
   "file_extension": ".py",
   "mimetype": "text/x-python",
   "name": "python",
   "nbconvert_exporter": "python",
   "pygments_lexer": "ipython3",
   "version": "3.6.10"
  }
 },
 "nbformat": 4,
 "nbformat_minor": 4
}
